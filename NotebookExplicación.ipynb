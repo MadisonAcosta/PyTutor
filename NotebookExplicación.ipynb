{
 "cells": [
  {
   "cell_type": "markdown",
   "metadata": {},
   "source": [
    "1️⃣ Instalación de Librerías\n",
    "Antes de ejecutar el código, es necesario instalar las librerías requeridas. Se usa pip install para instalar pandas, numpy, scikit-learn y nltk, que se utilizan para manipulación de datos, cálculos matemáticos y procesamiento de texto."
   ]
  },
  {
   "cell_type": "code",
   "execution_count": null,
   "metadata": {},
   "outputs": [],
   "source": [
    "# 📌 Instalación de librerías necesarias\n",
    "!pip install pandas numpy scikit-learn nltk"
   ]
  },
  {
   "cell_type": "markdown",
   "metadata": {},
   "source": [
    "2️⃣ Importación de Librerías\n",
    "Se importan las librerías necesarias para el análisis y transformación de datos:\n",
    "\n",
    "pandas: Para manipular DataFrames.\n",
    "numpy: Para operaciones numéricas.\n",
    "sklearn.feature_extraction.text: Para transformar texto en vectores numéricos (TF-IDF).\n",
    "sklearn.metrics.pairwise: Para calcular similitudes entre vectores.\n",
    "nltk: Para procesamiento de lenguaje natural."
   ]
  },
  {
   "cell_type": "code",
   "execution_count": null,
   "metadata": {},
   "outputs": [],
   "source": [
    "# 📌 Importar Librerías Necesarias\n",
    "import pandas as pd\n",
    "import numpy as np\n",
    "from sklearn.feature_extraction.text import TfidfVectorizer\n",
    "from sklearn.metrics.pairwise import cosine_similarity\n",
    "import nltk"
   ]
  },
  {
   "cell_type": "markdown",
   "metadata": {},
   "source": [
    "3️⃣ Carga de Datos\n",
    "Los datos provienen de múltiples archivos CSV almacenados en la carpeta \"CSV/Por Marcas\". Se obtiene la lista de archivos CSV, se leen y combinan en un solo DataFrame (df_celulares) utilizando pandas.concat(). Esto permite tener una única tabla con toda la información."
   ]
  },
  {
   "cell_type": "code",
   "execution_count": null,
   "metadata": {},
   "outputs": [],
   "source": [
    "# 📌 Cargar los Datos desde archivos CSV\n",
    "import os\n",
    "ruta_archivos = 'CSV/Por Marcas'  # Ruta donde están almacenados los archivos CSV\n",
    "\n",
    "# Obtener la lista de archivos en la carpeta especificada\n",
    "archivos = [archivo for archivo in os.listdir(ruta_archivos) if archivo.endswith('.csv')]\n",
    "\n",
    "# Leer y unir todos los CSV en un solo DataFrame\n",
    "df_lista = []\n",
    "for archivo in archivos:\n",
    "    df = pd.read_csv(os.path.join(ruta_archivos, archivo))  # Leer cada archivo CSV\n",
    "    df_lista.append(df)\n",
    "\n",
    "df_celulares = pd.concat(df_lista, ignore_index=True)  # Unir todos los DataFrames en uno solo"
   ]
  },
  {
   "cell_type": "markdown",
   "metadata": {},
   "source": [
    "4️⃣ Eliminación de Columnas Innecesarias\n",
    "Para simplificar el análisis, se eliminan las columnas de precios en diferentes países (Pakistan, India, China, Dubai) y se conserva solo el precio en EE.UU. (Launched Price (USA))."
   ]
  },
  {
   "cell_type": "code",
   "execution_count": null,
   "metadata": {},
   "outputs": [],
   "source": [
    "# 📌 Eliminar Columnas de Precios No Deseadas\n",
    "columnas_a_eliminar = ['Launched Price (Pakistan)', 'Launched Price (India)', 'Launched Price (China)', 'Launched Price (Dubai)']\n",
    "df_celulares.drop(columns=[col for col in columnas_a_eliminar if col in df_celulares.columns], inplace=True)  # Eliminar solo si existen"
   ]
  },
  {
   "cell_type": "markdown",
   "metadata": {},
   "source": [
    "5️⃣ Renombrado de Columnas\n",
    "Se renombran las columnas con nombres más claros y estandarizados, como \"Mobile Weight (g)\", \"RAM (GB)\", \"Battery Capacity (mAh)\", etc., facilitando su manipulación."
   ]
  },
  {
   "cell_type": "code",
   "execution_count": null,
   "metadata": {},
   "outputs": [],
   "source": [
    "# 📌 Renombrar Columnas para un mejor entendimiento\n",
    "df_celulares.columns = ['Company Name', 'Model Name', 'Mobile Weight (g)', 'RAM (GB)', 'Front Camera (MP)',\n",
    "                        'Back Camera (MP)', 'Processor', 'Battery Capacity (mAh)', 'Screen Size (inches)', 'Launched Price (USA)', 'Launched Year']"
   ]
  },
  {
   "cell_type": "markdown",
   "metadata": {},
   "source": [
    "6️⃣ Limpieza de Datos\n",
    "Se eliminan las filas con valores nulos (dropna()).\n",
    "Se convierten a minúsculas los valores de \"Model Name\" y \"Processor\" para estandarizar.\n",
    "Se eliminan las letras innecesarias en \"Mobile Weight (g)\" y se convierte a float."
   ]
  },
  {
   "cell_type": "code",
   "execution_count": null,
   "metadata": {},
   "outputs": [],
   "source": [
    "# 📌 Limpieza y Conversión de Datos\n",
    "\n",
    "df_celulares.dropna(inplace=True)  # Eliminar filas con valores nulos\n",
    "\n",
    "# Convertir nombres de modelos y procesadores a minúsculas para estandarizar\n",
    "df_celulares['Model Name'] = df_celulares['Model Name'].str.lower()\n",
    "df_celulares['Processor'] = df_celulares['Processor'].str.lower()\n",
    "\n",
    "# Convertir pesos de móviles a valores numéricos\n",
    "df_celulares['Mobile Weight (g)'] = df_celulares['Mobile Weight (g)'].str.replace('g', '', regex=True).astype(float)"
   ]
  },
  {
   "cell_type": "markdown",
   "metadata": {},
   "source": [
    "7️⃣ Expansión de Variantes de RAM\n",
    "Algunos celulares tienen múltiples opciones de RAM (4GB/6GB/8GB). Se separan estos valores y se crean filas individuales para cada variante de RAM."
   ]
  },
  {
   "cell_type": "code",
   "execution_count": null,
   "metadata": {},
   "outputs": [],
   "source": [
    "# 📌 Expandir Variantes de RAM en diferentes filas\n",
    "\n",
    "def expandir_variantes_ram(df):\n",
    "    \"\"\"\n",
    "    Función que separa valores de RAM expresados en múltiplas variantes (ej. \"4GB/6GB/8GB\")\n",
    "    y los convierte en filas individuales.\n",
    "    \"\"\"\n",
    "    nuevas_filas = []\n",
    "    for _, fila in df.iterrows():\n",
    "        valores_ram = [float(x) for x in str(fila['RAM (GB)']).replace('GB', '').split('/') if x.strip().isdigit()]\n",
    "        for ram in valores_ram:\n",
    "            nueva_fila = fila.copy()\n",
    "            nueva_fila['RAM (GB)'] = ram\n",
    "            nuevas_filas.append(nueva_fila)\n",
    "    return pd.DataFrame(nuevas_filas)\n",
    "\n",
    "df_celulares = expandir_variantes_ram(df_celulares)"
   ]
  },
  {
   "cell_type": "markdown",
   "metadata": {},
   "source": [
    "8️⃣ Extracción de Megapíxeles de las Cámaras\n",
    "Las columnas \"Front Camera (MP)\" y \"Back Camera (MP)\" pueden contener múltiples valores (12MP/16MP). Se extrae el primer valor encontrado y se convierte en float."
   ]
  },
  {
   "cell_type": "code",
   "execution_count": null,
   "metadata": {},
   "outputs": [],
   "source": [
    "# 📌 Extraer megapíxeles de las cámaras\n",
    "\n",
    "def extraer_megapixeles(valor):\n",
    "    \"\"\"\n",
    "    Función que extrae el valor numérico de megapíxeles de una cadena de texto (ej. \"12MP/16MP\").\n",
    "    Devuelve el primer valor encontrado.\n",
    "    \"\"\"\n",
    "    valores = [float(x) for x in valor.replace('MP', '').split('/') if x.strip().replace('.', '').isdigit()]\n",
    "    return valores[0] if valores else np.nan\n",
    "\n",
    "df_celulares['Front Camera (MP)'] = df_celulares['Front Camera (MP)'].astype(str).apply(extraer_megapixeles)\n",
    "df_celulares['Back Camera (MP)'] = df_celulares['Back Camera (MP)'].astype(str).apply(extraer_megapixeles)"
   ]
  },
  {
   "cell_type": "markdown",
   "metadata": {},
   "source": [
    "9️⃣ Conversión de Capacidad de Batería\n",
    "La columna \"Battery Capacity (mAh)\" puede contener comas (4,500mAh). Se eliminan y se convierte el valor en número flotante."
   ]
  },
  {
   "cell_type": "code",
   "execution_count": null,
   "metadata": {},
   "outputs": [],
   "source": [
    "# 📌 Limpieza y conversión de la capacidad de batería\n",
    "df_celulares['Battery Capacity (mAh)'] = (\n",
    "    df_celulares['Battery Capacity (mAh)']\n",
    "    .str.replace(',', '', regex=True)  # Eliminar comas para valores numéricos en miles\n",
    "    .str.replace('mAh', '', regex=True)  # Eliminar la unidad de medida\n",
    "    .astype(float)  # Convertir a número flotante\n",
    ")"
   ]
  },
  {
   "cell_type": "markdown",
   "metadata": {},
   "source": [
    "🔟 Extracción del Tamaño de Pantalla\n",
    "Algunos valores en \"Screen Size (inches)\" incluyen anotaciones adicionales (6.7 (unfolded)). Se extrae solo el número."
   ]
  },
  {
   "cell_type": "code",
   "execution_count": null,
   "metadata": {},
   "outputs": [],
   "source": [
    "# 📌 Extraer el tamaño de pantalla\n",
    "def extraer_tamano_pantalla(valor):\n",
    "    \"\"\"\n",
    "    Función que extrae el tamaño numérico de la pantalla desde una cadena de texto,\n",
    "    ignorando posibles anotaciones adicionales como \"(unfolded)\".\n",
    "    \"\"\"\n",
    "    import re\n",
    "    match = re.search(r'\\d+(\\.\\d+)?', valor)\n",
    "    return float(match.group()) if match else np.nan\n",
    "\n",
    "df_celulares['Screen Size (inches)'] = df_celulares['Screen Size (inches)'].astype(str).apply(extraer_tamano_pantalla)"
   ]
  },
  {
   "cell_type": "markdown",
   "metadata": {},
   "source": [
    "1️⃣1️⃣ Limpieza y Conversión del Precio\n",
    "Se eliminan comas (2,000 → 2000).\n",
    "Se elimina el prefijo \"USD \" para dejar solo los valores numéricos.\n",
    "Se convierte el precio a float."
   ]
  },
  {
   "cell_type": "code",
   "execution_count": null,
   "metadata": {},
   "outputs": [],
   "source": [
    "# 📌 Limpieza y conversión del precio de lanzamiento\n",
    "df_celulares['Launched Price (USA)'] = (\n",
    "    df_celulares['Launched Price (USA)']\n",
    "    .str.replace(',', '', regex=True)  # Eliminar comas para valores en miles\n",
    "    .str.replace('USD ', '', regex=True)  # Eliminar prefijo \"USD\"\n",
    "    .astype(float)  # Convertir a número flotante\n",
    ")"
   ]
  },
  {
   "cell_type": "markdown",
   "metadata": {},
   "source": [
    "1️⃣2️⃣ Visualización de Datos Limpios\n",
    "Se imprime un resumen de los datos procesados utilizando display(df_celulares.head())."
   ]
  },
  {
   "cell_type": "code",
   "execution_count": null,
   "metadata": {},
   "outputs": [],
   "source": [
    "# 📌 Mostrar los datos después de la limpieza\n",
    "print(\"Datos después de la limpieza y conversión:\")\n",
    "display(df_celulares.head())"
   ]
  }
 ],
 "metadata": {
  "kernelspec": {
   "display_name": "Python 3",
   "language": "python",
   "name": "python3"
  },
  "language_info": {
   "codemirror_mode": {
    "name": "ipython",
    "version": 3
   },
   "file_extension": ".py",
   "mimetype": "text/x-python",
   "name": "python",
   "nbconvert_exporter": "python",
   "pygments_lexer": "ipython3",
   "version": "3.13.1"
  }
 },
 "nbformat": 4,
 "nbformat_minor": 2
}
