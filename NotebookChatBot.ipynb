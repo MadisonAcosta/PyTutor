{
  "cells": [
    {
      "cell_type": "code",
      "execution_count": 2,
      "metadata": {
        "id": "7cC5Jtmz9BE_",
        "outputId": "fa91f13a-e7d1-4a18-9d92-c8086670f987",
        "colab": {
          "base_uri": "https://localhost:8080/"
        }
      },
      "outputs": [
        {
          "output_type": "stream",
          "name": "stdout",
          "text": [
            "Requirement already satisfied: spacy in /usr/local/lib/python3.11/dist-packages (3.8.4)\n",
            "Requirement already satisfied: spacy-legacy<3.1.0,>=3.0.11 in /usr/local/lib/python3.11/dist-packages (from spacy) (3.0.12)\n",
            "Requirement already satisfied: spacy-loggers<2.0.0,>=1.0.0 in /usr/local/lib/python3.11/dist-packages (from spacy) (1.0.5)\n",
            "Requirement already satisfied: murmurhash<1.1.0,>=0.28.0 in /usr/local/lib/python3.11/dist-packages (from spacy) (1.0.12)\n",
            "Requirement already satisfied: cymem<2.1.0,>=2.0.2 in /usr/local/lib/python3.11/dist-packages (from spacy) (2.0.11)\n",
            "Requirement already satisfied: preshed<3.1.0,>=3.0.2 in /usr/local/lib/python3.11/dist-packages (from spacy) (3.0.9)\n",
            "Requirement already satisfied: thinc<8.4.0,>=8.3.4 in /usr/local/lib/python3.11/dist-packages (from spacy) (8.3.4)\n",
            "Requirement already satisfied: wasabi<1.2.0,>=0.9.1 in /usr/local/lib/python3.11/dist-packages (from spacy) (1.1.3)\n",
            "Requirement already satisfied: srsly<3.0.0,>=2.4.3 in /usr/local/lib/python3.11/dist-packages (from spacy) (2.5.1)\n",
            "Requirement already satisfied: catalogue<2.1.0,>=2.0.6 in /usr/local/lib/python3.11/dist-packages (from spacy) (2.0.10)\n",
            "Requirement already satisfied: weasel<0.5.0,>=0.1.0 in /usr/local/lib/python3.11/dist-packages (from spacy) (0.4.1)\n",
            "Requirement already satisfied: typer<1.0.0,>=0.3.0 in /usr/local/lib/python3.11/dist-packages (from spacy) (0.15.2)\n",
            "Requirement already satisfied: tqdm<5.0.0,>=4.38.0 in /usr/local/lib/python3.11/dist-packages (from spacy) (4.67.1)\n",
            "Requirement already satisfied: numpy>=1.19.0 in /usr/local/lib/python3.11/dist-packages (from spacy) (2.0.2)\n",
            "Requirement already satisfied: requests<3.0.0,>=2.13.0 in /usr/local/lib/python3.11/dist-packages (from spacy) (2.32.3)\n",
            "Requirement already satisfied: pydantic!=1.8,!=1.8.1,<3.0.0,>=1.7.4 in /usr/local/lib/python3.11/dist-packages (from spacy) (2.10.6)\n",
            "Requirement already satisfied: jinja2 in /usr/local/lib/python3.11/dist-packages (from spacy) (3.1.6)\n",
            "Requirement already satisfied: setuptools in /usr/local/lib/python3.11/dist-packages (from spacy) (75.1.0)\n",
            "Requirement already satisfied: packaging>=20.0 in /usr/local/lib/python3.11/dist-packages (from spacy) (24.2)\n",
            "Requirement already satisfied: langcodes<4.0.0,>=3.2.0 in /usr/local/lib/python3.11/dist-packages (from spacy) (3.5.0)\n",
            "Requirement already satisfied: language-data>=1.2 in /usr/local/lib/python3.11/dist-packages (from langcodes<4.0.0,>=3.2.0->spacy) (1.3.0)\n",
            "Requirement already satisfied: annotated-types>=0.6.0 in /usr/local/lib/python3.11/dist-packages (from pydantic!=1.8,!=1.8.1,<3.0.0,>=1.7.4->spacy) (0.7.0)\n",
            "Requirement already satisfied: pydantic-core==2.27.2 in /usr/local/lib/python3.11/dist-packages (from pydantic!=1.8,!=1.8.1,<3.0.0,>=1.7.4->spacy) (2.27.2)\n",
            "Requirement already satisfied: typing-extensions>=4.12.2 in /usr/local/lib/python3.11/dist-packages (from pydantic!=1.8,!=1.8.1,<3.0.0,>=1.7.4->spacy) (4.12.2)\n",
            "Requirement already satisfied: charset-normalizer<4,>=2 in /usr/local/lib/python3.11/dist-packages (from requests<3.0.0,>=2.13.0->spacy) (3.4.1)\n",
            "Requirement already satisfied: idna<4,>=2.5 in /usr/local/lib/python3.11/dist-packages (from requests<3.0.0,>=2.13.0->spacy) (3.10)\n",
            "Requirement already satisfied: urllib3<3,>=1.21.1 in /usr/local/lib/python3.11/dist-packages (from requests<3.0.0,>=2.13.0->spacy) (2.3.0)\n",
            "Requirement already satisfied: certifi>=2017.4.17 in /usr/local/lib/python3.11/dist-packages (from requests<3.0.0,>=2.13.0->spacy) (2025.1.31)\n",
            "Requirement already satisfied: blis<1.3.0,>=1.2.0 in /usr/local/lib/python3.11/dist-packages (from thinc<8.4.0,>=8.3.4->spacy) (1.2.0)\n",
            "Requirement already satisfied: confection<1.0.0,>=0.0.1 in /usr/local/lib/python3.11/dist-packages (from thinc<8.4.0,>=8.3.4->spacy) (0.1.5)\n",
            "Requirement already satisfied: click>=8.0.0 in /usr/local/lib/python3.11/dist-packages (from typer<1.0.0,>=0.3.0->spacy) (8.1.8)\n",
            "Requirement already satisfied: shellingham>=1.3.0 in /usr/local/lib/python3.11/dist-packages (from typer<1.0.0,>=0.3.0->spacy) (1.5.4)\n",
            "Requirement already satisfied: rich>=10.11.0 in /usr/local/lib/python3.11/dist-packages (from typer<1.0.0,>=0.3.0->spacy) (13.9.4)\n",
            "Requirement already satisfied: cloudpathlib<1.0.0,>=0.7.0 in /usr/local/lib/python3.11/dist-packages (from weasel<0.5.0,>=0.1.0->spacy) (0.21.0)\n",
            "Requirement already satisfied: smart-open<8.0.0,>=5.2.1 in /usr/local/lib/python3.11/dist-packages (from weasel<0.5.0,>=0.1.0->spacy) (7.1.0)\n",
            "Requirement already satisfied: MarkupSafe>=2.0 in /usr/local/lib/python3.11/dist-packages (from jinja2->spacy) (3.0.2)\n",
            "Requirement already satisfied: marisa-trie>=1.1.0 in /usr/local/lib/python3.11/dist-packages (from language-data>=1.2->langcodes<4.0.0,>=3.2.0->spacy) (1.2.1)\n",
            "Requirement already satisfied: markdown-it-py>=2.2.0 in /usr/local/lib/python3.11/dist-packages (from rich>=10.11.0->typer<1.0.0,>=0.3.0->spacy) (3.0.0)\n",
            "Requirement already satisfied: pygments<3.0.0,>=2.13.0 in /usr/local/lib/python3.11/dist-packages (from rich>=10.11.0->typer<1.0.0,>=0.3.0->spacy) (2.18.0)\n",
            "Requirement already satisfied: wrapt in /usr/local/lib/python3.11/dist-packages (from smart-open<8.0.0,>=5.2.1->weasel<0.5.0,>=0.1.0->spacy) (1.17.2)\n",
            "Requirement already satisfied: mdurl~=0.1 in /usr/local/lib/python3.11/dist-packages (from markdown-it-py>=2.2.0->rich>=10.11.0->typer<1.0.0,>=0.3.0->spacy) (0.1.2)\n",
            "Collecting es-core-news-sm==3.8.0\n",
            "  Downloading https://github.com/explosion/spacy-models/releases/download/es_core_news_sm-3.8.0/es_core_news_sm-3.8.0-py3-none-any.whl (12.9 MB)\n",
            "\u001b[2K     \u001b[90m━━━━━━━━━━━━━━━━━━━━━━━━━━━━━━━━━━━━━━━━\u001b[0m \u001b[32m12.9/12.9 MB\u001b[0m \u001b[31m90.5 MB/s\u001b[0m eta \u001b[36m0:00:00\u001b[0m\n",
            "\u001b[?25hInstalling collected packages: es-core-news-sm\n",
            "Successfully installed es-core-news-sm-3.8.0\n",
            "\u001b[38;5;2m✔ Download and installation successful\u001b[0m\n",
            "You can now load the package via spacy.load('es_core_news_sm')\n",
            "\u001b[38;5;3m⚠ Restart to reload dependencies\u001b[0m\n",
            "If you are in a Jupyter or Colab notebook, you may need to restart Python in\n",
            "order to load all the package's dependencies. You can do this by selecting the\n",
            "'Restart kernel' or 'Restart runtime' option.\n"
          ]
        }
      ],
      "source": [
        "!pip install spacy\n",
        "!python -m spacy download es_core_news_sm"
      ]
    },
    {
      "cell_type": "code",
      "source": [
        "!git clone https://github.com/MadisonAcosta/PyTutor.git\n",
        "\n",
        "\n"
      ],
      "metadata": {
        "id": "1JBLjSF9938B",
        "outputId": "df7fabda-a60b-44fd-ef2f-e725ee15886d",
        "colab": {
          "base_uri": "https://localhost:8080/"
        }
      },
      "execution_count": 7,
      "outputs": [
        {
          "output_type": "stream",
          "name": "stdout",
          "text": [
            "Cloning into 'PyTutor'...\n",
            "remote: Enumerating objects: 213, done.\u001b[K\n",
            "remote: Counting objects: 100% (118/118), done.\u001b[K\n",
            "remote: Compressing objects: 100% (97/97), done.\u001b[K\n",
            "remote: Total 213 (delta 46), reused 80 (delta 21), pack-reused 95 (from 2)\u001b[K\n",
            "Receiving objects: 100% (213/213), 42.93 MiB | 25.87 MiB/s, done.\n",
            "Resolving deltas: 100% (46/46), done.\n"
          ]
        }
      ]
    },
    {
      "cell_type": "code",
      "source": [
        "with open(\"/content/PyTutor/intents.json\", \"r\", encoding=\"utf-8\") as file:\n",
        "    intents = json.load(file)\n",
        "\n",
        "with open(\"/content/PyTutor/celulares_limpios.json\", \"r\", encoding=\"utf-8\") as file:\n",
        "    celulares = json.load(file)\n",
        "\n",
        "\n"
      ],
      "metadata": {
        "id": "_M4rq_Zw_HKs"
      },
      "execution_count": 15,
      "outputs": []
    },
    {
      "cell_type": "code",
      "source": [
        "# Verificación rápida de formato de JSON\n",
        "try:\n",
        "    with open(\"/content/PyTutor/intents.json\", \"r\", encoding=\"utf-8\") as file:\n",
        "        intents = json.load(file)\n",
        "    with open(\"/content/PyTutor/celulares_limpios.json\", \"r\", encoding=\"utf-8\") as file:\n",
        "        celulares = json.load(file)\n",
        "    print(\"Ambos archivos JSON están bien formados.\")\n",
        "except json.JSONDecodeError as e:\n",
        "    print(f\"Error de formato en el JSON: {e}\")\n",
        "\n",
        "\n"
      ],
      "metadata": {
        "id": "hjN7A8rnAzZY",
        "outputId": "f162c7f6-393e-40f7-8022-9a233a094288",
        "colab": {
          "base_uri": "https://localhost:8080/"
        }
      },
      "execution_count": 2,
      "outputs": [
        {
          "output_type": "stream",
          "name": "stdout",
          "text": [
            "Ambos archivos JSON están bien formados.\n"
          ]
        }
      ]
    },
    {
      "cell_type": "code",
      "source": [],
      "metadata": {
        "id": "tbnM8-64DMDr"
      },
      "execution_count": null,
      "outputs": []
    },
    {
      "cell_type": "code",
      "execution_count": 9,
      "metadata": {
        "id": "HWH4bKEw9BFB",
        "outputId": "e01bf875-e261-4884-f47d-32f4d901eff3",
        "colab": {
          "base_uri": "https://localhost:8080/"
        }
      },
      "outputs": [
        {
          "output_type": "stream",
          "name": "stdout",
          "text": [
            "Hola, ¿en qué puedo ayudarte?\n",
            "Tú: Me interesa un celular para juugar\n",
            "Chatbot: Claro, dime tus preferencias.\n",
            "Chatbot: ¿Te interesa que tenga una batería de larga duración? (Sí/No)\n",
            "Tú: salir\n",
            "Chatbot: ¡Hasta luego!\n"
          ]
        }
      ],
      "source": [
        "import json\n",
        "import spacy\n",
        "from collections import deque\n",
        "\n",
        "# Cargar intents y evaluaciones para el chat\n",
        "with open(\"/content/PyTutor/intents.json\", \"r\", encoding=\"utf-8\") as file:\n",
        "    intents = json.load(file)\n",
        "\n",
        "# Cargar datos de celulares\n",
        "with open(\"/content/PyTutor/celulares_limpios.json\", \"r\", encoding=\"utf-8\") as file:\n",
        "    celulares = json.load(file)\n",
        "\n",
        "# Memoria del chatbot\n",
        "memoria_chat = deque(maxlen=5)\n",
        "preferencias_usuario = {}\n",
        "inicio_recoleccion = False\n",
        "\n",
        "# Extraer preguntas del flujo desde intents.json\n",
        "preguntas_flujo = intents[\"evaluacionesChat\"][0][\"responses\"]\n",
        "indice_pregunta = 0\n",
        "\n",
        "# Extraer respuestas positivas y negativas\n",
        "tags_respuestas = {tag[\"tag\"]: set(tag[\"responses\"]) for tag in intents[\"evaluacionesChat\"] if tag[\"tag\"] in [\"respuestas_positivas\", \"respuestas_negativas\"]}\n",
        "\n",
        "tags_marcas_validas = set()\n",
        "for tag in intents[\"evaluacionesChat\"]:\n",
        "    if tag[\"tag\"] == \"celulares_por_marca\":\n",
        "        tags_marcas_validas = set(tag[\"patterns\"])\n",
        "        break\n",
        "\n",
        "# Cargar modelo de lenguaje para extraer palabras clave\n",
        "nlp = spacy.load(\"es_core_news_sm\")\n",
        "\n",
        "def extraer_palabras_clave(texto):\n",
        "    doc = nlp(texto)\n",
        "    palabras_clave = [token.lemma_ for token in doc if token.pos_ in [\"NOUN\", \"ADJ\", \"VERB\", \"NUM\"]]\n",
        "    return palabras_clave\n",
        "\n",
        "def recomendar_celular():\n",
        "    celulares_filtrados = celulares\n",
        "    for clave, valor in preferencias_usuario.items():\n",
        "        if clave == \"presupuesto\":\n",
        "            celulares_filtrados = [c for c in celulares_filtrados if c[\"Launched Price (USA)\"] <= valor]\n",
        "        elif clave == \"camara\":\n",
        "            celulares_filtrados = [c for c in celulares_filtrados if c[\"Front Camera (MP)\"] >= valor]\n",
        "        elif clave == \"rendimiento\":\n",
        "            celulares_filtrados = [c for c in celulares_filtrados if c[\"RAM (GB)\"] >= valor]\n",
        "        elif clave == \"bateria\":\n",
        "            celulares_filtrados = [c for c in celulares_filtrados if c[\"Battery Capacity (mAh)\"] >= valor]\n",
        "        elif clave == \"marca\":\n",
        "            celulares_filtrados = [c for c in celulares_filtrados if valor.lower() in c[\"Company Name\"].lower()]\n",
        "\n",
        "    return celulares_filtrados[0] if celulares_filtrados else None\n",
        "\n",
        "def generar_mensaje_recomendacion(celular):\n",
        "    mensaje = f\"Te recomiendo el {celular['Model Name']} de {celular['Company Name']}.\"\n",
        "\n",
        "    if \"presupuesto\" in preferencias_usuario:\n",
        "        mensaje += f\" Su precio de lanzamiento es ${celular['Launched Price (USA)']}.\"\n",
        "\n",
        "    if \"bateria\" in preferencias_usuario and preferencias_usuario[\"bateria\"] > 0:\n",
        "        mensaje += f\" Tiene una batería de {celular['Battery Capacity (mAh)']} mAh para una excelente duración.\"\n",
        "\n",
        "    if \"camara\" in preferencias_usuario and preferencias_usuario[\"camara\"] > 0:\n",
        "        mensaje += f\" Su cámara frontal es de {celular['Front Camera (MP)']} MP y la trasera de {celular['Back Camera (MP)']} MP.\"\n",
        "\n",
        "    if \"rendimiento\" in preferencias_usuario and preferencias_usuario[\"rendimiento\"] > 0:\n",
        "        mensaje += f\" Ofrece un gran rendimiento gracias a su procesador {celular['Processor']} y {celular['RAM (GB)']} GB de RAM.\"\n",
        "\n",
        "    mensaje += f\" Tiene una pantalla de {celular['Screen Size (inches)']} pulgadas.\"\n",
        "\n",
        "    return mensaje\n",
        "\n",
        "def chatbot():\n",
        "    global inicio_recoleccion, preferencias_usuario, indice_pregunta\n",
        "    print(\"Hola, ¿en qué puedo ayudarte?\")\n",
        "    while True:\n",
        "        user_input = input(\"Tú: \").strip()\n",
        "\n",
        "        if not user_input:\n",
        "            print(\"Chatbot: No entendí tu respuesta. Por favor, escribe algo.\")\n",
        "            continue\n",
        "\n",
        "        if user_input.lower() == \"salir\":\n",
        "            print(\"Chatbot: ¡Hasta luego!\")\n",
        "            break\n",
        "\n",
        "        if not inicio_recoleccion:\n",
        "            if \"recomendar\" in user_input.lower() or \"celular\" in user_input.lower():\n",
        "                print(\"Chatbot: Claro, dime tus preferencias.\")\n",
        "                inicio_recoleccion = True\n",
        "                indice_pregunta = 0\n",
        "                preferencias_usuario.clear()\n",
        "                print(f\"Chatbot: {preguntas_flujo[indice_pregunta]['pregunta']}\")\n",
        "            else:\n",
        "                print(\"Chatbot: Lo siento, no entendí tu pregunta. ¿Puedes reformularla?\")\n",
        "            continue\n",
        "\n",
        "        clave_pregunta_actual = preguntas_flujo[indice_pregunta][\"pregunta\"].split(\"?\")[0].strip().lower()\n",
        "\n",
        "        if clave_pregunta_actual in [\"¿te interesa que tenga una batería de larga duración\", \"¿quieres una buena cámara\", \"¿necesitas un celular con buen rendimiento\"]:\n",
        "            respuesta = user_input.lower().strip()\n",
        "            if respuesta in tags_respuestas[\"respuestas_positivas\"]:\n",
        "                preferencias_usuario[clave_pregunta_actual] = 4000 if \"batería\" in clave_pregunta_actual else 1\n",
        "            elif respuesta in tags_respuestas[\"respuestas_negativas\"]:\n",
        "                preferencias_usuario[clave_pregunta_actual] = 0\n",
        "            else:\n",
        "                print(\"Chatbot: Responde con una opción válida.\")\n",
        "                continue\n",
        "        elif \"presupuesto\" in clave_pregunta_actual:\n",
        "            palabras_clave = extraer_palabras_clave(user_input)\n",
        "            presupuesto_valido = next((int(palabra) for palabra in palabras_clave if palabra.isdigit()), None)\n",
        "            if presupuesto_valido is not None:\n",
        "                preferencias_usuario[\"presupuesto\"] = presupuesto_valido\n",
        "            else:\n",
        "                print(\"Chatbot: Por favor, ingresa un valor numérico para el presupuesto.\")\n",
        "                continue\n",
        "        elif \"marca\" in clave_pregunta_actual:\n",
        "            marca_usuario = user_input.strip().lower()\n",
        "            if marca_usuario in tags_marcas_validas:\n",
        "                preferencias_usuario[\"marca\"] = marca_usuario\n",
        "            else:\n",
        "                print(\"Chatbot: Por favor, menciona una marca válida de la lista.\")\n",
        "                continue\n",
        "\n",
        "        indice_pregunta += 1\n",
        "\n",
        "        if indice_pregunta < len(preguntas_flujo):\n",
        "            print(f\"Chatbot: {preguntas_flujo[indice_pregunta]['pregunta']}\")\n",
        "        else:\n",
        "            celular_recomendado = recomendar_celular()\n",
        "            respuesta = (\n",
        "                generar_mensaje_recomendacion(celular_recomendado)\n",
        "                if celular_recomendado\n",
        "                else \"No encontré un celular que cumpla con todas tus preferencias.\"\n",
        "            )\n",
        "            print(f\"Chatbot: {respuesta}\")\n",
        "            inicio_recoleccion = False\n",
        "            preferencias_usuario.clear()\n",
        "            indice_pregunta = 0\n",
        "\n",
        "chatbot()\n"
      ]
    }
  ],
  "metadata": {
    "kernelspec": {
      "display_name": "Python 3",
      "language": "python",
      "name": "python3"
    },
    "language_info": {
      "codemirror_mode": {
        "name": "ipython",
        "version": 3
      },
      "file_extension": ".py",
      "mimetype": "text/x-python",
      "name": "python",
      "nbconvert_exporter": "python",
      "pygments_lexer": "ipython3",
      "version": "3.12.9"
    },
    "colab": {
      "provenance": []
    }
  },
  "nbformat": 4,
  "nbformat_minor": 0
}